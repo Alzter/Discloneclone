{
 "cells": [
  {
   "cell_type": "code",
   "execution_count": 1,
   "id": "d0a01718-3816-4e17-a9c1-fcee55d80229",
   "metadata": {},
   "outputs": [],
   "source": [
    "import sys\n",
    "sys.path.append(\"../src/\")\n",
    "import parser"
   ]
  },
  {
   "cell_type": "code",
   "execution_count": 3,
   "id": "74729d07-8b05-4bdc-94ba-eae26e005504",
   "metadata": {},
   "outputs": [],
   "source": [
    "from glob import glob\n",
    "chats = glob(\"../data/*.csv\")"
   ]
  },
  {
   "cell_type": "code",
   "execution_count": 4,
   "id": "cc3c17b9-531e-4cbe-9f91-252da2430901",
   "metadata": {},
   "outputs": [
    {
     "name": "stderr",
     "output_type": "stream",
     "text": [
      "Preprocessing Discord Conversations:   0%|                                                                                                                                                       | 0/1 [00:00<?, ?it/s]/home/alzter/alzterbot2/notebooks/../src/parser.py:307: UserWarning: Error reading Discord conversation history file at path ../data/data_combined.csv. Traceback: 'Date'. Ignoring the file and proceeding.\n",
      "  warnings.warn(f\"Error reading Discord conversation history file at path {file}. Traceback: {str(e)}. Ignoring the file and proceeding.\")\n",
      "Preprocessing Discord Conversations: 100%|███████████████████████████████████████████████████████████████████████████████████████████████████████████████████████████████████████████████| 1/1 [00:00<00:00,  1.12it/s]\n"
     ]
    }
   ],
   "source": [
    "import parser\n",
    "from glob import glob\n",
    "chats = glob(\"../data/*.csv\")\n",
    "dataset = parser.create_dataset(chats, \"alzter\")"
   ]
  },
  {
   "cell_type": "code",
   "execution_count": null,
   "id": "f5141d6e-a3c3-4414-9991-7679f6d302fd",
   "metadata": {},
   "outputs": [],
   "source": [
    "dataset.to_csv(\"../data_combined.csv\", index=False)"
   ]
  }
 ],
 "metadata": {
  "kernelspec": {
   "display_name": "Python 3 (ipykernel)",
   "language": "python",
   "name": "python3"
  },
  "language_info": {
   "codemirror_mode": {
    "name": "ipython",
    "version": 3
   },
   "file_extension": ".py",
   "mimetype": "text/x-python",
   "name": "python",
   "nbconvert_exporter": "python",
   "pygments_lexer": "ipython3",
   "version": "3.12.9"
  }
 },
 "nbformat": 4,
 "nbformat_minor": 5
}
