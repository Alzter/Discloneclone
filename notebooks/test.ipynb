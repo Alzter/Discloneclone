{
 "cells": [
  {
   "cell_type": "code",
   "execution_count": null,
   "id": "d0a01718-3816-4e17-a9c1-fcee55d80229",
   "metadata": {},
   "outputs": [],
   "source": [
    "import sys\n",
    "sys.path.append(\"../src/\")\n",
    "from utils import LocalPLM, LocalModelArguments"
   ]
  },
  {
   "cell_type": "code",
   "execution_count": null,
   "id": "97b7fc57-9f5b-4111-85c2-a98ccf2a8645",
   "metadata": {},
   "outputs": [],
   "source": [
    "args = LocalModelArguments(\n",
    "    model_name_or_path = \"microsoft/Phi-4-mini-instruct\",\n",
    "    cuda_devices = \"0\",\n",
    "    use_4bit_quantization = True,\n",
    "    bnb_4bit_quant_type = \"nf4\",\n",
    "    bnb_4bit_compute_dtype = \"float16\",\n",
    "    use_nested_quant = True,\n",
    "    use_reentrant = True\n",
    ")\n",
    "\n",
    "model = LocalPLM(args)"
   ]
  },
  {
   "cell_type": "code",
   "execution_count": null,
   "id": "fc5618f3-9450-4995-8713-c47e13282b92",
   "metadata": {},
   "outputs": [],
   "source": [
    "DATA_PATH = \"../discord-chat\""
   ]
  },
  {
   "cell_type": "code",
   "execution_count": null,
   "id": "44a8d678-b76c-4ea6-b13f-ba0251746d5e",
   "metadata": {},
   "outputs": [],
   "source": [
    "import glob\n",
    "def get_chat(user : str, path : str):\n",
    "    user = \"ThisGreenDingo\"\n",
    "    conversation = path + \"/Direct Messages - \" + user + \" [*.csv\"\n",
    "    conversation = glob.glob(conversation)[0]\n",
    "    "
   ]
  },
  {
   "cell_type": "code",
   "execution_count": null,
   "id": "9e4f7014-954a-4837-b1c3-d81b15871c56",
   "metadata": {},
   "outputs": [],
   "source": [
    "\n",
    "def read_conversation(path : str) -> pd.DataFrame:\n",
    "    def parse_time_str(time : str) -> datetime:\n",
    "        return datetime.strptime(time,'%Y-%m-%dT%H:%M:%S.%f0%z')\n",
    "        \n",
    "    c = pd.read_csv(path)\n",
    "    c[\"Date\"] = c[\"Date\"].map(parse_time_str)\n",
    "    return c\n",
    "    \n",
    "def get_chat(user : str, path : str) -> pd.DataFrame:\n",
    "    path = path + \"/Direct Messages - \" + user + \" [*.csv\"\n",
    "    conversation = glob.glob(path)\n",
    "\n",
    "    if conversation:\n",
    "        return read_conversation(conversation[0])\n",
    "    else:\n",
    "        raise FileNotFoundError(f\"No conversation(s) found at path {path}\")"
   ]
  },
  {
   "cell_type": "code",
   "execution_count": null,
   "id": "ca8c40a9-fac2-4e2f-b75b-9635d9d8c23a",
   "metadata": {},
   "outputs": [],
   "source": [
    "c = get_chat(\"steamingsheep\", DATA_PATH)"
   ]
  },
  {
   "cell_type": "code",
   "execution_count": null,
   "id": "a8b5f702-2620-41b4-8d27-f4ce6bbb3377",
   "metadata": {},
   "outputs": [],
   "source": [
    "c.head()"
   ]
  },
  {
   "cell_type": "code",
   "execution_count": null,
   "id": "2ea698fc-5df9-42c4-82d3-99d4757e6d3e",
   "metadata": {},
   "outputs": [],
   "source": [
    "def to_string(messages : pd.DataFrame) -> str:\n",
    "    messages = messages\n",
    "\n",
    "    end_time = messages.iloc[-1].Date\n",
    "    \n",
    "    string = \"Conversation history between \" + \", \".join(c.Author.unique())\n",
    "    string += \"\\n\" + end_time.strftime(\"%y/%m/%d, %H:%M:%S\") + \"\\n\\n\"\n",
    "    for i, message in messages.iterrows():\n",
    "        string += f\"{message.Author} {message.Date.strftime(\"%H:%M:%S\")}\"\n",
    "        string += f\"\\n{message.Content}\\n\\n\"\n",
    "    \n",
    "    return string"
   ]
  },
  {
   "cell_type": "code",
   "execution_count": null,
   "id": "66f645ce-adeb-492e-bc15-19325b1e6ae5",
   "metadata": {},
   "outputs": [],
   "source": [
    "def gen_prompt(messages : pd.DataFrame, prompt : str, context : str | None = None) -> str:\n",
    "    messages = to_string(messages)\n",
    "\n",
    "    #prompt = \"Read the following conversation history and tell me what you think alzter was thinking.\"\n",
    "    #prompt = \"Read the following conversation history and tell me what you think the relationship is between the users. Answer succinctly.\"\n",
    "    #prompt = \"Read the following conversation history and tell me what was discussed. Answer succinctly.\"\n",
    "    \n",
    "    prompt = [{\"role\":\"system\",\"content\":prompt}]\n",
    "\n",
    "    if context:prompt.append({\"role\":\"system\",\"content\":f\"Context: {context}\"})\n",
    "    \n",
    "    prompt.append({\"role\":\"user\",\"content\":messages})\n",
    "\n",
    "    return prompt"
   ]
  },
  {
   "cell_type": "code",
   "execution_count": null,
   "id": "987bd2a0-fdec-4713-a4d7-de80791e4b63",
   "metadata": {},
   "outputs": [],
   "source": [
    "def understand_conversation(messages : pd.DataFrame, context : str | None = None) -> dict:\n",
    "    relationship_prompt= \"Read the following conversation history and tell me what you think the relationship is between the users. Answer succinctly.\"\n",
    "    relationship_prompt = gen_prompt(messages, relationship_prompt, context=context)\n",
    "    relationship = model.generate(relationship_prompt,temperature=1,max_new_tokens = 128).text\n",
    "    \n",
    "    topic_prompt=\"Read the following conversation history and tell me what was discussed. Answer succinctly.\"\n",
    "    topic_prompt = gen_prompt(messages, topic_prompt, context=relationship)\n",
    "    #print(topic_prompt)\n",
    "    topic = model.generate(topic_prompt,temperature=1,max_new_tokens = 128).text\n",
    "\n",
    "    return {\"relationship\":relationship,\"topic\":topic}"
   ]
  },
  {
   "cell_type": "code",
   "execution_count": null,
   "id": "7f17dc3f-764e-44a8-b6e6-c6696a0ba990",
   "metadata": {},
   "outputs": [],
   "source": [
    "understand_conversation(c[:10], \"alzter and steamingsheep are brothers.\")"
   ]
  },
  {
   "cell_type": "code",
   "execution_count": null,
   "id": "57df14b7-943b-4a99-9335-d4eaaa8a660d",
   "metadata": {},
   "outputs": [],
   "source": [
    "understand_conversation(c[40:52])"
   ]
  },
  {
   "cell_type": "code",
   "execution_count": null,
   "id": "41472b1e-3784-4be1-90a6-d60d0c764316",
   "metadata": {},
   "outputs": [],
   "source": []
  }
 ],
 "metadata": {
  "kernelspec": {
   "display_name": "Python 3 (ipykernel)",
   "language": "python",
   "name": "python3"
  },
  "language_info": {
   "codemirror_mode": {
    "name": "ipython",
    "version": 3
   },
   "file_extension": ".py",
   "mimetype": "text/x-python",
   "name": "python",
   "nbconvert_exporter": "python",
   "pygments_lexer": "ipython3",
   "version": "3.12.9"
  }
 },
 "nbformat": 4,
 "nbformat_minor": 5
}
