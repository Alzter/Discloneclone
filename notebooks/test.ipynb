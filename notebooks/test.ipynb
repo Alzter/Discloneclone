{
 "cells": [
  {
   "cell_type": "code",
   "execution_count": null,
   "id": "d0a01718-3816-4e17-a9c1-fcee55d80229",
   "metadata": {},
   "outputs": [],
   "source": [
    "import sys\n",
    "sys.path.append(\"../src/\")\n",
    "import parser\n",
    "from agent import Agent"
   ]
  },
  {
   "cell_type": "code",
   "execution_count": null,
   "id": "baa06ed5-7f20-4fbb-a5a4-0be8a3a9c6c9",
   "metadata": {},
   "outputs": [],
   "source": [
    "DATA_PATH = \"../discord-chat\""
   ]
  },
  {
   "cell_type": "code",
   "execution_count": null,
   "id": "2e68834a-8dcb-43ec-953c-19e1595ba86a",
   "metadata": {},
   "outputs": [],
   "source": [
    "c = parser.get_chat(\"ThisGreenDingo\", DATA_PATH)"
   ]
  },
  {
   "cell_type": "code",
   "execution_count": null,
   "id": "ddf4ea50-140b-4967-843f-2bdf9cbdb830",
   "metadata": {},
   "outputs": [],
   "source": [
    "c = parser.split_by_conversations(c, 120)"
   ]
  },
  {
   "cell_type": "code",
   "execution_count": null,
   "id": "bc369365-23ec-460b-b0c9-4075e4abcc36",
   "metadata": {},
   "outputs": [],
   "source": [
    "agent = Agent()"
   ]
  },
  {
   "cell_type": "code",
   "execution_count": null,
   "id": "267bcece-80e8-4cca-a060-632aca830ce3",
   "metadata": {},
   "outputs": [],
   "source": [
    "agent.conversation_to_dataset(c[0],\"alzter\", batch_size=2)"
   ]
  }
 ],
 "metadata": {
  "kernelspec": {
   "display_name": "Python 3 (ipykernel)",
   "language": "python",
   "name": "python3"
  },
  "language_info": {
   "codemirror_mode": {
    "name": "ipython",
    "version": 3
   },
   "file_extension": ".py",
   "mimetype": "text/x-python",
   "name": "python",
   "nbconvert_exporter": "python",
   "pygments_lexer": "ipython3",
   "version": "3.12.9"
  }
 },
 "nbformat": 4,
 "nbformat_minor": 5
}
