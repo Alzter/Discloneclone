{
 "cells": [
  {
   "cell_type": "code",
   "execution_count": null,
   "id": "096e8515-0e39-49b6-9925-5d86d71ce4f2",
   "metadata": {},
   "outputs": [],
   "source": [
    "import sys\n",
    "sys.path.append(\"../src/\")\n",
    "sys.path.append(\"src/\")"
   ]
  },
  {
   "cell_type": "code",
   "execution_count": null,
   "id": "f0ec3934-2d87-4f57-8d4e-f04de7f4a6a4",
   "metadata": {},
   "outputs": [],
   "source": [
    "import glob\n",
    "import pandas as pd\n",
    "files = glob.glob(\"../data/chats/*.csv\")\n",
    "import parser"
   ]
  },
  {
   "cell_type": "code",
   "execution_count": null,
   "id": "3abf1aad-cea4-4698-b610-caf4923e89db",
   "metadata": {},
   "outputs": [],
   "source": [
    "data = parser.create_dataset(glob.glob(\"../data/chats/dm/*.csv\"), \"alzter\", usernames=True, timestamps=True, chat_format=False)"
   ]
  },
  {
   "cell_type": "code",
   "execution_count": null,
   "id": "668e41db-63cb-493e-8568-88417aec56dd",
   "metadata": {},
   "outputs": [],
   "source": [
    "data.to_csv(\"../data/chats/data_combined_meta.csv\", index=False)"
   ]
  },
  {
   "cell_type": "code",
   "execution_count": null,
   "id": "3db6bb48-00e0-4f58-a1e9-2ab6f1a0f3cb",
   "metadata": {},
   "outputs": [],
   "source": [
    "test = parser.create_dataset(glob.glob(\"../data/chats/dm/*.csv\")[:5], \"alzter\", usernames=True, chat_format=False)"
   ]
  }
 ],
 "metadata": {
  "kernelspec": {
   "display_name": "Python 3 (ipykernel)",
   "language": "python",
   "name": "python3"
  },
  "language_info": {
   "codemirror_mode": {
    "name": "ipython",
    "version": 3
   },
   "file_extension": ".py",
   "mimetype": "text/x-python",
   "name": "python",
   "nbconvert_exporter": "python",
   "pygments_lexer": "ipython3",
   "version": "3.12.9"
  }
 },
 "nbformat": 4,
 "nbformat_minor": 5
}
