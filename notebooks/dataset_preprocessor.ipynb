{
 "cells": [
  {
   "cell_type": "code",
   "execution_count": null,
   "id": "096e8515-0e39-49b6-9925-5d86d71ce4f2",
   "metadata": {},
   "outputs": [],
   "source": [
    "import sys\n",
    "sys.path.append(\"../src/\")\n",
    "sys.path.append(\"src/\")"
   ]
  },
  {
   "cell_type": "code",
   "execution_count": null,
   "id": "f0ec3934-2d87-4f57-8d4e-f04de7f4a6a4",
   "metadata": {},
   "outputs": [],
   "source": [
    "import glob\n",
    "import pandas as pd\n",
    "files = glob.glob(\"../data/chats/*.csv\")\n",
    "import parser"
   ]
  },
  {
   "cell_type": "code",
   "execution_count": null,
   "id": "d1a04f79-6a7b-4439-a933-b6f641c5fc5b",
   "metadata": {},
   "outputs": [],
   "source": [
    "c = parser.get_chat(\"steamingsheep\", \"../data/chats/\")"
   ]
  },
  {
   "cell_type": "code",
   "execution_count": null,
   "id": "60c78dab-7bb1-4d13-a00a-5e28a3fff917",
   "metadata": {},
   "outputs": [],
   "source": [
    "? parser.to_dataset"
   ]
  },
  {
   "cell_type": "code",
   "execution_count": null,
   "id": "c4559d50-7bea-4a48-a1d0-aecc5181cae8",
   "metadata": {},
   "outputs": [],
   "source": [
    "pd.set_option('display.max_colwidth', None)"
   ]
  },
  {
   "cell_type": "code",
   "execution_count": null,
   "id": "3abf1aad-cea4-4698-b610-caf4923e89db",
   "metadata": {},
   "outputs": [],
   "source": [
    "data = parser.create_dataset(glob.glob(\"../data/chats/trash/*.csv\")[:5], \"alzter\", chat_format=True)"
   ]
  },
  {
   "cell_type": "code",
   "execution_count": null,
   "id": "b197e293-bf54-41fa-94cf-ad996004ffc1",
   "metadata": {},
   "outputs": [],
   "source": [
    "data"
   ]
  },
  {
   "cell_type": "code",
   "execution_count": null,
   "id": "3db6bb48-00e0-4f58-a1e9-2ab6f1a0f3cb",
   "metadata": {},
   "outputs": [],
   "source": [
    "# parser.to_dataset(c.iloc[0:100], \"alzter\", \"Your name is Alex\", chat_format=False)"
   ]
  },
  {
   "cell_type": "code",
   "execution_count": null,
   "id": "07ad16ac-740e-4f0e-8dcb-d6a81cc2efc4",
   "metadata": {},
   "outputs": [],
   "source": [
    "SYSTEM_PROMPT = \"You are alzter, a Discord user known for your art and programming skills. Your real name is Alex, you live in Melbourne, Australia, and you study computer science at university. You often use internet slang and text emoticons in your messages.\""
   ]
  },
  {
   "cell_type": "code",
   "execution_count": null,
   "id": "cd655e38-5136-4836-9081-4670c9c79477",
   "metadata": {},
   "outputs": [],
   "source": [
    "data = parser.create_dataset(files, \"alzter\", system_prompt=SYSTEM_PROMPT)"
   ]
  },
  {
   "cell_type": "code",
   "execution_count": null,
   "id": "f4928882-ba31-4b4a-90f0-2acc1617f872",
   "metadata": {},
   "outputs": [],
   "source": [
    "import json\n",
    "with open(\"../data/data_combined.json\", \"w\") as f:\n",
    "    json.dump(data, f, indent=2)"
   ]
  },
  {
   "cell_type": "code",
   "execution_count": null,
   "id": "144ae3dd-69e6-41d9-a769-a7c5d8f4a523",
   "metadata": {},
   "outputs": [],
   "source": [
    "import utils.preprocess as pre"
   ]
  },
  {
   "cell_type": "code",
   "execution_count": null,
   "id": "baea1018-8854-4e5a-a8a5-d2a98976d478",
   "metadata": {},
   "outputs": [],
   "source": [
    "_, dataset = pre.load_dataset(\"../data/data_combined.json\")"
   ]
  },
  {
   "cell_type": "code",
   "execution_count": null,
   "id": "3c600911-621f-4703-ab11-b2f11f4b424f",
   "metadata": {},
   "outputs": [],
   "source": [
    "dataset"
   ]
  },
  {
   "cell_type": "code",
   "execution_count": null,
   "id": "7e6a8c8c-180e-4c39-84fa-3159d6c48e1e",
   "metadata": {},
   "outputs": [],
   "source": [
    "data"
   ]
  },
  {
   "cell_type": "code",
   "execution_count": null,
   "id": "f777d3b2-f30b-4d2b-8547-758e07dc0d1b",
   "metadata": {},
   "outputs": [],
   "source": [
    "import json"
   ]
  },
  {
   "cell_type": "code",
   "execution_count": null,
   "id": "aba09286-6b52-4062-b97c-67aa9b9ddb75",
   "metadata": {},
   "outputs": [],
   "source": [
    "import datasets"
   ]
  },
  {
   "cell_type": "code",
   "execution_count": null,
   "id": "c2cc0a0e-5fb0-459a-a977-502f60d834da",
   "metadata": {},
   "outputs": [],
   "source": [
    "d = datasets.load_dataset(\"json\", data_files = \"../data/data_combined.json\")"
   ]
  },
  {
   "cell_type": "code",
   "execution_count": null,
   "id": "a542e467-32c2-4c90-b655-0aa7eb888461",
   "metadata": {},
   "outputs": [],
   "source": [
    "list(d.values())[0]"
   ]
  },
  {
   "cell_type": "code",
   "execution_count": null,
   "id": "d6e71b47-7806-4dc9-aebe-c4e7501590f9",
   "metadata": {},
   "outputs": [],
   "source": [
    "d[-1]"
   ]
  },
  {
   "cell_type": "code",
   "execution_count": null,
   "id": "bc453ee9-3209-45e1-b36b-0610a9e00b24",
   "metadata": {},
   "outputs": [],
   "source": []
  }
 ],
 "metadata": {
  "kernelspec": {
   "display_name": "Python 3 (ipykernel)",
   "language": "python",
   "name": "python3"
  },
  "language_info": {
   "codemirror_mode": {
    "name": "ipython",
    "version": 3
   },
   "file_extension": ".py",
   "mimetype": "text/x-python",
   "name": "python",
   "nbconvert_exporter": "python",
   "pygments_lexer": "ipython3",
   "version": "3.12.9"
  }
 },
 "nbformat": 4,
 "nbformat_minor": 5
}
