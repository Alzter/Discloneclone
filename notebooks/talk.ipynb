{
 "cells": [
  {
   "cell_type": "code",
   "execution_count": null,
   "id": "a68a1173-f637-4843-b821-365eea7d859b",
   "metadata": {},
   "outputs": [],
   "source": [
    "import sys\n",
    "sys.path.append(\"../src/\")\n",
    "sys.path.append(\"src/\")\n",
    "from utils.utils import LocalModelArguments, LocalPLM"
   ]
  },
  {
   "cell_type": "code",
   "execution_count": null,
   "id": "606d0711-c06e-4447-82b8-a97e4b1a6b7e",
   "metadata": {},
   "outputs": [],
   "source": [
    "args = LocalModelArguments(\n",
    "    model_name_or_path = \"../models/TestLocal/checkpoint-19000\",\n",
    "    cuda_devices = \"0\",\n",
    "    use_4bit_quantization = True,\n",
    "    use_nested_quant = False,\n",
    "    #attn_implementation = \"eager\"\n",
    ")"
   ]
  },
  {
   "cell_type": "code",
   "execution_count": null,
   "id": "bc54db67-398e-476e-a743-1164dd2dbb93",
   "metadata": {},
   "outputs": [],
   "source": [
    "import gc\n",
    "if \"model\" in locals():\n",
    "    del model\n",
    "gc.collect()"
   ]
  },
  {
   "cell_type": "code",
   "execution_count": null,
   "id": "cb53f5d0-26b5-405e-a303-6bce0cc44d00",
   "metadata": {},
   "outputs": [],
   "source": [
    "model = LocalPLM(args)"
   ]
  },
  {
   "cell_type": "code",
   "execution_count": null,
   "id": "1bcd51c7-227d-480c-b2b4-cda82fac9819",
   "metadata": {},
   "outputs": [],
   "source": [
    "from datetime import datetime\n",
    "local_time = datetime.now().strftime(\"%A, %B 2020, %-I:%M %p\")\n",
    "\n",
    "EXTRA_CONTEXT = \"\"\"\n",
    "You live away from Mum and Dad in an apartment in Hawthorn.\n",
    "Your brother is steamingsheep (Nick) who lives in Melbourne.\n",
    "You have a joke with Nick where you often talk about a dog named Grevald.\n",
    "Your best friends are thisgreendingo (Liam), grumpy_koala (Callum), jam2see (James), and rastastherascal (Carlos) who all live in Melbourne.\n",
    "Your enemy is AlzterBot (Fake Alex), a clone of yourself that you created using a fine-tuned Large Language Model.\n",
    "\"\"\".strip().replace(\"\\n\", \" \")\n",
    "\n",
    "SYSTEM_PROMPT = f\"\"\"\n",
    "You are alzter, a Discord user known for your art and programming skills.\n",
    "Your real name is Alex, you live in Melbourne, Australia, and you study computer science at university.\n",
    "{EXTRA_CONTEXT}\n",
    "You often use internet slang and text emoticons in your messages. The time is {local_time}.\n",
    "Do not repeat your previous messages when responding.\"\"\".strip().replace(\"\\n\", \" \")\n",
    "\n",
    "convo = [\n",
    "    {\"role\":\"system\", \"content\":SYSTEM_PROMPT},\n",
    "]\n",
    "\n",
    "name = input(\"> What's your name?\")\n",
    "print(f\"Starting conversation as {name}\\n\")\n",
    "\n",
    "while True:\n",
    "    user_input = input(\"> \")\n",
    "\n",
    "    if user_input == \"exit\": break\n",
    "    local_time = datetime.now().strftime(\"%A, %B 2020, %-I:%M %p\")\n",
    "\n",
    "    if user_input:\n",
    "        user_input = user_input.replace(\"\\\\n\", \"\\n\")\n",
    "        user_input = name + \" (\" + local_time + \")\\n\" + user_input\n",
    "       # print(\"user: \" + user_input)\n",
    "        convo.append({\"role\":\"user\",\"content\":user_input})\n",
    "    \n",
    "    response = model.generate(convo,temperature=1\n",
    "                              , max_new_tokens=32)\n",
    "    if not response.text: raise Exception(\"no response\")\n",
    "\n",
    "    message = response.text\n",
    "    # Only capture the first 2 lines of Alzter's response.\n",
    "    message = \"\\n\".join(message.strip().split(\"\\n\")[:3])\n",
    "    \n",
    "    message = message.replace(\"\\\\n\", \"\\n\")\n",
    "    message_readable = \"\\n\".join(message.strip().split(\"\\n\")[1:])\n",
    "    \n",
    "    convo.append({\"role\":\"assistant\",\"content\":message})\n",
    "    print(message_readable)"
   ]
  },
  {
   "cell_type": "code",
   "execution_count": null,
   "id": "59f221a8-785c-454b-98bf-4c1a9f44bef3",
   "metadata": {},
   "outputs": [],
   "source": [
    "import pandas as pd\n",
    "chat = pd.read_pickle(\"messages.pkl\")"
   ]
  },
  {
   "cell_type": "code",
   "execution_count": null,
   "id": "50003983-2c7c-43f1-b29e-e38fc2aedd73",
   "metadata": {},
   "outputs": [],
   "source": [
    "import datetime\n",
    "datetime.datetime.now(datetime.UTC)"
   ]
  },
  {
   "cell_type": "code",
   "execution_count": null,
   "id": "a3b97f5d-242d-4707-ba9e-195eb6f6a02e",
   "metadata": {},
   "outputs": [],
   "source": [
    "(chat[\"Date\"].iloc[0] - datetime.datetime.now(datetime.UTC)).seconds // 60"
   ]
  },
  {
   "cell_type": "code",
   "execution_count": null,
   "id": "309961b8-d7ef-489d-99ac-39c9f4bfa77b",
   "metadata": {},
   "outputs": [],
   "source": [
    "chat[ chat[\"Date\"].apply(lambda x: datetime.datetime.now(datetime.UTC) - x < datetime.timedelta(minutes=10000)) ]"
   ]
  },
  {
   "cell_type": "code",
   "execution_count": null,
   "id": "6fab36d4-ed48-4d03-b08e-6ad53824b6e6",
   "metadata": {},
   "outputs": [],
   "source": []
  }
 ],
 "metadata": {
  "kernelspec": {
   "display_name": "Python 3 (ipykernel)",
   "language": "python",
   "name": "python3"
  },
  "language_info": {
   "codemirror_mode": {
    "name": "ipython",
    "version": 3
   },
   "file_extension": ".py",
   "mimetype": "text/x-python",
   "name": "python",
   "nbconvert_exporter": "python",
   "pygments_lexer": "ipython3",
   "version": "3.12.9"
  }
 },
 "nbformat": 4,
 "nbformat_minor": 5
}
